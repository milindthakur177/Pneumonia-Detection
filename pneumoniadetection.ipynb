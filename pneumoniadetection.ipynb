{
  "nbformat": 4,
  "nbformat_minor": 0,
  "metadata": {
    "colab": {
      "name": "pneumoniadetection.ipynb",
      "provenance": []
    },
    "kernelspec": {
      "name": "python3",
      "display_name": "Python 3"
    },
    "accelerator": "GPU"
  },
  "cells": [
    {
      "cell_type": "code",
      "metadata": {
        "id": "NA8gCBFOUUSW"
      },
      "source": [
        "import numpy as np\n",
        "import pandas as pd\n",
        "import matplotlib.pyplot as plt\n",
        "%matplotlib inline\n",
        "import tensorflow as tf\n",
        "from keras.layers import Dense, Flatten,Conv2D , MaxPool2D , Dropout\n",
        "from keras.preprocessing.image import ImageDataGenerator\n",
        "from keras.models import Sequential\n",
        "import os\n",
        "import glob\n",
        "from PIL import Image,ImageOps,ImageEnhance"
      ],
      "execution_count": null,
      "outputs": []
    },
    {
      "cell_type": "code",
      "metadata": {
        "id": "wK5kgc6SRtZ4"
      },
      "source": [
        "labels = ['train/NORMAL', 'train/PNEUMONIA', 'test/NORMAL' , 'test/PNEUMONIA']\n",
        "\n",
        "for label in labels:\n",
        "    f = 'drive/My Drive/chest_xray/' + label    \n",
        "    \n",
        "    new_d = 224\n",
        "    for file in os.listdir(f):\n",
        "        f_img = f+'/'+file\n",
        "        try:\n",
        "            img = Image.open(f_img)\n",
        "           \n",
        "            img = img.resize((new_d, new_d))\n",
        "            \n",
        "            img = ImageOps.equalize(img, mask = None)\n",
        "\n",
        "            img = ImageOps.autocontrast(img)\n",
        "             \n",
        "            #thresh = 127\n",
        "            #fn = lambda x : 255 if x > thresh else 0\n",
        "            #img = img.convert('L').point(fn, mode='1')\n",
        "            #img = img.point(lambda p: p > thresh and 255)\n",
        "            \n",
        "            img.save(f_img)\n",
        "        except IOError:\n",
        "            pass"
      ],
      "execution_count": null,
      "outputs": []
    },
    {
      "cell_type": "code",
      "metadata": {
        "id": "6i-zELtTD6hn"
      },
      "source": [
        "train = 'drive/My Drive/chest_xray/train'\n",
        "test = 'drive/My Drive/chest_xray/test'"
      ],
      "execution_count": null,
      "outputs": []
    },
    {
      "cell_type": "code",
      "metadata": {
        "id": "5C3GnZlhUa1c",
        "colab": {
          "base_uri": "https://localhost:8080/"
        },
        "outputId": "6d4ed57c-df42-48b8-a88b-19e2f5f69d15"
      },
      "source": [
        "\n",
        "train_datagen = ImageDataGenerator(\n",
        "        rescale=1./255,\n",
        "        shear_range=0.2,\n",
        "        zoom_range=0.2,\n",
        "        horizontal_flip=True)\n",
        "\n",
        "test_datagen = ImageDataGenerator(rescale=1./255)\n",
        "\n",
        "training_set = train_datagen.flow_from_directory(\n",
        "        train,\n",
        "        target_size=(224, 224),\n",
        "        batch_size=64,\n",
        "        class_mode='binary',\n",
        "        shuffle =True)\n",
        "\n",
        "\n",
        "test_set = test_datagen.flow_from_directory(\n",
        "        test,\n",
        "        target_size=(224, 224),\n",
        "        batch_size=64,\n",
        "        class_mode='binary',\n",
        "        shuffle = True)"
      ],
      "execution_count": null,
      "outputs": [
        {
          "output_type": "stream",
          "text": [
            "Found 5218 images belonging to 2 classes.\n",
            "Found 632 images belonging to 2 classes.\n"
          ],
          "name": "stdout"
        }
      ]
    },
    {
      "cell_type": "code",
      "metadata": {
        "id": "4J08DdxJUi0F"
      },
      "source": [
        "model = Sequential()\n",
        "\n",
        "model.add(Conv2D(32, (3, 3), activation=\"relu\", input_shape=(224, 224, 3)))\n",
        "\n",
        "model.add(MaxPool2D(pool_size = (2, 2)))\n",
        "\n",
        "model.add(Dropout(0.2))\n",
        "\n",
        "model.add(Conv2D(64, (3, 3), activation=\"relu\", input_shape=(32, 32, 3)))\n",
        "\n",
        "model.add(MaxPool2D(pool_size = (2, 2)))\n",
        "\n",
        "model.add(Dropout(0.2))\n",
        "\n",
        "model.add(Conv2D(64, (3, 3), activation=\"relu\"))\n",
        "\n",
        "model.add(MaxPool2D(pool_size = (2, 2)))\n",
        "\n",
        "model.add(Dropout(0.2))\n",
        "\n",
        "model.add(Flatten())\n",
        "\n",
        "model.add(Dense(activation = 'relu', units = 128))\n",
        "\n",
        "model.add(Dense(activation = 'sigmoid', units = 1))\n",
        "\n",
        "model.compile(optimizer = 'adam', loss = 'binary_crossentropy',metrics= ['accuracy'])"
      ],
      "execution_count": null,
      "outputs": []
    },
    {
      "cell_type": "code",
      "metadata": {
        "id": "VixXzWG-UqZM",
        "colab": {
          "base_uri": "https://localhost:8080/"
        },
        "outputId": "8f2430ea-c00f-41cf-ebc0-65111d72352b"
      },
      "source": [
        "my_callbacks = [\n",
        "    tf.keras.callbacks.EarlyStopping(patience=2),\n",
        "    \n",
        "    tf.keras.callbacks.TensorBoard(log_dir='./logs')\n",
        "]\n",
        "cnn_model = model.fit(training_set,\n",
        "                         steps_per_epoch = len(training_set)//32,\n",
        "                         epochs = 20,\n",
        "                         validation_data = test_set,\n",
        "                         validation_steps =len(test_set)//32 ,\n",
        "                         verbose=1\n",
        "                         )"
      ],
      "execution_count": null,
      "outputs": [
        {
          "output_type": "stream",
          "text": [
            "Epoch 1/20\n",
            "2/2 [==============================] - 0s 143ms/step - loss: 3.8309 - accuracy: 0.6641\n",
            "Epoch 2/20\n",
            "2/2 [==============================] - 1s 376ms/step - loss: 2.0765 - accuracy: 0.5000\n",
            "Epoch 3/20\n",
            "2/2 [==============================] - 1s 384ms/step - loss: 0.9798 - accuracy: 0.2188\n",
            "Epoch 4/20\n",
            "2/2 [==============================] - 1s 403ms/step - loss: 0.5989 - accuracy: 0.7344\n",
            "Epoch 5/20\n",
            "2/2 [==============================] - 1s 395ms/step - loss: 0.5961 - accuracy: 0.7188\n",
            "Epoch 6/20\n",
            "2/2 [==============================] - 1s 400ms/step - loss: 0.5651 - accuracy: 0.7500\n",
            "Epoch 7/20\n",
            "2/2 [==============================] - 1s 386ms/step - loss: 0.5644 - accuracy: 0.7422\n",
            "Epoch 8/20\n",
            "2/2 [==============================] - 1s 400ms/step - loss: 0.5657 - accuracy: 0.7422\n",
            "Epoch 9/20\n",
            "2/2 [==============================] - 1s 401ms/step - loss: 0.6107 - accuracy: 0.6953\n",
            "Epoch 10/20\n",
            "2/2 [==============================] - 1s 389ms/step - loss: 0.5879 - accuracy: 0.7109\n",
            "Epoch 11/20\n",
            "2/2 [==============================] - 1s 400ms/step - loss: 0.5115 - accuracy: 0.7891\n",
            "Epoch 12/20\n",
            "2/2 [==============================] - 1s 386ms/step - loss: 0.5535 - accuracy: 0.7344\n",
            "Epoch 13/20\n",
            "2/2 [==============================] - 1s 388ms/step - loss: 0.4999 - accuracy: 0.7734\n",
            "Epoch 14/20\n",
            "2/2 [==============================] - 1s 375ms/step - loss: 0.5415 - accuracy: 0.7344\n",
            "Epoch 15/20\n",
            "2/2 [==============================] - 1s 376ms/step - loss: 0.5206 - accuracy: 0.7422\n",
            "Epoch 16/20\n",
            "2/2 [==============================] - 1s 379ms/step - loss: 0.5360 - accuracy: 0.7266\n",
            "Epoch 17/20\n",
            "2/2 [==============================] - 1s 388ms/step - loss: 0.5239 - accuracy: 0.7344\n",
            "Epoch 18/20\n",
            "2/2 [==============================] - 1s 382ms/step - loss: 0.3691 - accuracy: 0.8359\n",
            "Epoch 19/20\n",
            "2/2 [==============================] - 1s 389ms/step - loss: 0.5539 - accuracy: 0.7109\n",
            "Epoch 20/20\n",
            "2/2 [==============================] - 1s 385ms/step - loss: 0.4352 - accuracy: 0.8516\n"
          ],
          "name": "stdout"
        }
      ]
    },
    {
      "cell_type": "code",
      "metadata": {
        "id": "MheYVSb4WQCU",
        "colab": {
          "base_uri": "https://localhost:8080/"
        },
        "outputId": "9775e849-6dd6-4762-faca-13b891644432"
      },
      "source": [
        "cnn_model.history"
      ],
      "execution_count": null,
      "outputs": [
        {
          "output_type": "execute_result",
          "data": {
            "text/plain": [
              "{'accuracy': [0.6640625,\n",
              "  0.5,\n",
              "  0.21875,\n",
              "  0.734375,\n",
              "  0.71875,\n",
              "  0.75,\n",
              "  0.7421875,\n",
              "  0.7421875,\n",
              "  0.6953125,\n",
              "  0.7109375,\n",
              "  0.7890625,\n",
              "  0.734375,\n",
              "  0.7734375,\n",
              "  0.734375,\n",
              "  0.7421875,\n",
              "  0.7265625,\n",
              "  0.734375,\n",
              "  0.8359375,\n",
              "  0.7109375,\n",
              "  0.8515625],\n",
              " 'loss': [3.8309452533721924,\n",
              "  2.076531410217285,\n",
              "  0.9798172116279602,\n",
              "  0.5988763570785522,\n",
              "  0.5960546731948853,\n",
              "  0.5651456713676453,\n",
              "  0.5643843412399292,\n",
              "  0.5657351613044739,\n",
              "  0.6107392907142639,\n",
              "  0.5878831744194031,\n",
              "  0.5114926099777222,\n",
              "  0.5534865856170654,\n",
              "  0.49989819526672363,\n",
              "  0.5415084362030029,\n",
              "  0.5205965042114258,\n",
              "  0.5360214710235596,\n",
              "  0.5239224433898926,\n",
              "  0.3690528869628906,\n",
              "  0.5538618564605713,\n",
              "  0.4352116584777832]}"
            ]
          },
          "metadata": {
            "tags": []
          },
          "execution_count": 11
        }
      ]
    },
    {
      "cell_type": "code",
      "metadata": {
        "id": "_swPpZJxhpXD",
        "colab": {
          "base_uri": "https://localhost:8080/",
          "height": 295
        },
        "outputId": "e3ce2fc2-f0f3-4ac1-ff69-9ea7458f847e"
      },
      "source": [
        "acc_train = cnn_model.history['accuracy']\n",
        "epochs = range(1,21)\n",
        "plt.plot(epochs,acc_train,'g', label='Training accuracy')\n",
        "plt.title('Accuracy ')\n",
        "plt.xlabel('Epochs')\n",
        "plt.ylabel('Accuracy')\n",
        "plt.legend()\n",
        "plt.show()"
      ],
      "execution_count": null,
      "outputs": [
        {
          "output_type": "display_data",
          "data": {
            "image/png": "[encoded data removed]",
            "text/plain": [
              "<Figure size 432x288 with 1 Axes>"
            ]
          },
          "metadata": {
            "tags": [],
            "needs_background": "light"
          }
        }
      ]
    },
    {
      "cell_type": "code",
      "metadata": {
        "colab": {
          "base_uri": "https://localhost:8080/",
          "height": 295
        },
        "id": "7Cu7jKBkWTfH",
        "outputId": "9e1f515a-3516-4ca6-eebb-974237682200"
      },
      "source": [
        "loss_train = cnn_model.history['loss']\r\n",
        "epochs = range(1,21)\r\n",
        "plt.plot(epochs,loss_train,'g', label='Training Loss')\r\n",
        "plt.title('Loss ')\r\n",
        "plt.xlabel('Epochs')\r\n",
        "plt.ylabel('Accuracy')\r\n",
        "plt.legend()\r\n",
        "plt.show()"
      ],
      "execution_count": null,
      "outputs": [
        {
          "output_type": "display_data",
          "data": {
            "image/png": "[encoded data removed]",
            "text/plain": [
              "<Figure size 432x288 with 1 Axes>"
            ]
          },
          "metadata": {
            "tags": [],
            "needs_background": "light"
          }
        }
      ]
    },
    {
      "cell_type": "code",
      "metadata": {
        "id": "6KhKM6VsYv8G"
      },
      "source": [
        ""
      ],
      "execution_count": null,
      "outputs": []
    }
  ]
}